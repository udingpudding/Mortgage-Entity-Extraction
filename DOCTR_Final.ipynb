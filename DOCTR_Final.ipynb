{
  "cells": [
    {
      "cell_type": "markdown",
      "metadata": {
        "id": "Vdw8LXahLxrC"
      },
      "source": [
        "# Installs and Imports"
      ]
    },
    {
      "cell_type": "code",
      "source": [
        "!pip install python-doctr\n",
        "!pip install tf2onnx\n",
        "!pip install opencv-python\n",
        "\n"
      ],
      "metadata": {
        "colab": {
          "base_uri": "https://localhost:8080/",
          "height": 1000
        },
        "id": "2FN0TCPkL5YB",
        "outputId": "6f2423af-4bbf-47fd-fc85-a1ca56da41d8"
      },
      "execution_count": null,
      "outputs": [
        {
          "output_type": "stream",
          "name": "stdout",
          "text": [
            "Collecting python-doctr\n",
            "  Downloading python_doctr-0.10.0-py3-none-any.whl.metadata (33 kB)\n",
            "Requirement already satisfied: numpy<3.0.0,>=1.16.0 in /usr/local/lib/python3.10/dist-packages (from python-doctr) (1.26.4)\n",
            "Requirement already satisfied: scipy<2.0.0,>=1.4.0 in /usr/local/lib/python3.10/dist-packages (from python-doctr) (1.13.1)\n",
            "Requirement already satisfied: h5py<4.0.0,>=3.1.0 in /usr/local/lib/python3.10/dist-packages (from python-doctr) (3.12.1)\n",
            "Requirement already satisfied: opencv-python<5.0.0,>=4.5.0 in /usr/local/lib/python3.10/dist-packages (from python-doctr) (4.10.0.84)\n",
            "Collecting pypdfium2<5.0.0,>=4.11.0 (from python-doctr)\n",
            "  Downloading pypdfium2-4.30.0-py3-none-manylinux_2_17_x86_64.manylinux2014_x86_64.whl.metadata (48 kB)\n",
            "\u001b[2K     \u001b[90m━━━━━━━━━━━━━━━━━━━━━━━━━━━━━━━━━━━━━━━━\u001b[0m \u001b[32m48.5/48.5 kB\u001b[0m \u001b[31m3.5 MB/s\u001b[0m eta \u001b[36m0:00:00\u001b[0m\n",
            "\u001b[?25hCollecting pyclipper<2.0.0,>=1.2.0 (from python-doctr)\n",
            "  Downloading pyclipper-1.3.0.post6-cp310-cp310-manylinux_2_12_x86_64.manylinux2010_x86_64.whl.metadata (9.0 kB)\n",
            "Requirement already satisfied: shapely<3.0.0,>=1.6.0 in /usr/local/lib/python3.10/dist-packages (from python-doctr) (2.0.6)\n",
            "Collecting langdetect<2.0.0,>=1.0.9 (from python-doctr)\n",
            "  Downloading langdetect-1.0.9.tar.gz (981 kB)\n",
            "\u001b[2K     \u001b[90m━━━━━━━━━━━━━━━━━━━━━━━━━━━━━━━━━━━━━━━━\u001b[0m \u001b[32m981.5/981.5 kB\u001b[0m \u001b[31m33.0 MB/s\u001b[0m eta \u001b[36m0:00:00\u001b[0m\n",
            "\u001b[?25h  Preparing metadata (setup.py) ... \u001b[?25l\u001b[?25hdone\n",
            "Collecting rapidfuzz<4.0.0,>=3.0.0 (from python-doctr)\n",
            "  Downloading rapidfuzz-3.10.1-cp310-cp310-manylinux_2_17_x86_64.manylinux2014_x86_64.whl.metadata (11 kB)\n",
            "Requirement already satisfied: huggingface-hub<1.0.0,>=0.20.0 in /usr/local/lib/python3.10/dist-packages (from python-doctr) (0.26.2)\n",
            "Requirement already satisfied: Pillow>=9.2.0 in /usr/local/lib/python3.10/dist-packages (from python-doctr) (11.0.0)\n",
            "Requirement already satisfied: defusedxml>=0.7.0 in /usr/local/lib/python3.10/dist-packages (from python-doctr) (0.7.1)\n",
            "Collecting anyascii>=0.3.2 (from python-doctr)\n",
            "  Downloading anyascii-0.3.2-py3-none-any.whl.metadata (1.5 kB)\n",
            "Requirement already satisfied: tqdm>=4.30.0 in /usr/local/lib/python3.10/dist-packages (from python-doctr) (4.66.6)\n",
            "Requirement already satisfied: filelock in /usr/local/lib/python3.10/dist-packages (from huggingface-hub<1.0.0,>=0.20.0->python-doctr) (3.16.1)\n",
            "Requirement already satisfied: fsspec>=2023.5.0 in /usr/local/lib/python3.10/dist-packages (from huggingface-hub<1.0.0,>=0.20.0->python-doctr) (2024.10.0)\n",
            "Requirement already satisfied: packaging>=20.9 in /usr/local/lib/python3.10/dist-packages (from huggingface-hub<1.0.0,>=0.20.0->python-doctr) (24.2)\n",
            "Requirement already satisfied: pyyaml>=5.1 in /usr/local/lib/python3.10/dist-packages (from huggingface-hub<1.0.0,>=0.20.0->python-doctr) (6.0.2)\n",
            "Requirement already satisfied: requests in /usr/local/lib/python3.10/dist-packages (from huggingface-hub<1.0.0,>=0.20.0->python-doctr) (2.32.3)\n",
            "Requirement already satisfied: typing-extensions>=3.7.4.3 in /usr/local/lib/python3.10/dist-packages (from huggingface-hub<1.0.0,>=0.20.0->python-doctr) (4.12.2)\n",
            "Requirement already satisfied: six in /usr/local/lib/python3.10/dist-packages (from langdetect<2.0.0,>=1.0.9->python-doctr) (1.16.0)\n",
            "Requirement already satisfied: charset-normalizer<4,>=2 in /usr/local/lib/python3.10/dist-packages (from requests->huggingface-hub<1.0.0,>=0.20.0->python-doctr) (3.4.0)\n",
            "Requirement already satisfied: idna<4,>=2.5 in /usr/local/lib/python3.10/dist-packages (from requests->huggingface-hub<1.0.0,>=0.20.0->python-doctr) (3.10)\n",
            "Requirement already satisfied: urllib3<3,>=1.21.1 in /usr/local/lib/python3.10/dist-packages (from requests->huggingface-hub<1.0.0,>=0.20.0->python-doctr) (2.2.3)\n",
            "Requirement already satisfied: certifi>=2017.4.17 in /usr/local/lib/python3.10/dist-packages (from requests->huggingface-hub<1.0.0,>=0.20.0->python-doctr) (2024.8.30)\n",
            "Downloading python_doctr-0.10.0-py3-none-any.whl (304 kB)\n",
            "\u001b[2K   \u001b[90m━━━━━━━━━━━━━━━━━━━━━━━━━━━━━━━━━━━━━━━━\u001b[0m \u001b[32m304.9/304.9 kB\u001b[0m \u001b[31m25.8 MB/s\u001b[0m eta \u001b[36m0:00:00\u001b[0m\n",
            "\u001b[?25hDownloading anyascii-0.3.2-py3-none-any.whl (289 kB)\n",
            "\u001b[2K   \u001b[90m━━━━━━━━━━━━━━━━━━━━━━━━━━━━━━━━━━━━━━━━\u001b[0m \u001b[32m289.9/289.9 kB\u001b[0m \u001b[31m26.6 MB/s\u001b[0m eta \u001b[36m0:00:00\u001b[0m\n",
            "\u001b[?25hDownloading pyclipper-1.3.0.post6-cp310-cp310-manylinux_2_12_x86_64.manylinux2010_x86_64.whl (912 kB)\n",
            "\u001b[2K   \u001b[90m━━━━━━━━━━━━━━━━━━━━━━━━━━━━━━━━━━━━━━━━\u001b[0m \u001b[32m912.2/912.2 kB\u001b[0m \u001b[31m60.0 MB/s\u001b[0m eta \u001b[36m0:00:00\u001b[0m\n",
            "\u001b[?25hDownloading pypdfium2-4.30.0-py3-none-manylinux_2_17_x86_64.manylinux2014_x86_64.whl (2.8 MB)\n",
            "\u001b[2K   \u001b[90m━━━━━━━━━━━━━━━━━━━━━━━━━━━━━━━━━━━━━━━━\u001b[0m \u001b[32m2.8/2.8 MB\u001b[0m \u001b[31m96.1 MB/s\u001b[0m eta \u001b[36m0:00:00\u001b[0m\n",
            "\u001b[?25hDownloading rapidfuzz-3.10.1-cp310-cp310-manylinux_2_17_x86_64.manylinux2014_x86_64.whl (3.1 MB)\n",
            "\u001b[2K   \u001b[90m━━━━━━━━━━━━━━━━━━━━━━━━━━━━━━━━━━━━━━━━\u001b[0m \u001b[32m3.1/3.1 MB\u001b[0m \u001b[31m81.7 MB/s\u001b[0m eta \u001b[36m0:00:00\u001b[0m\n",
            "\u001b[?25hBuilding wheels for collected packages: langdetect\n",
            "  Building wheel for langdetect (setup.py) ... \u001b[?25l\u001b[?25hdone\n",
            "  Created wheel for langdetect: filename=langdetect-1.0.9-py3-none-any.whl size=993222 sha256=9f2966bcb1db5f3a65e2e85727e91ca61c36661cba3fb5071414ded4fd49bb5b\n",
            "  Stored in directory: /root/.cache/pip/wheels/95/03/7d/59ea870c70ce4e5a370638b5462a7711ab78fba2f655d05106\n",
            "Successfully built langdetect\n",
            "Installing collected packages: pyclipper, rapidfuzz, pypdfium2, langdetect, anyascii, python-doctr\n",
            "Successfully installed anyascii-0.3.2 langdetect-1.0.9 pyclipper-1.3.0.post6 pypdfium2-4.30.0 python-doctr-0.10.0 rapidfuzz-3.10.1\n",
            "Collecting tf2onnx\n",
            "  Downloading tf2onnx-1.16.1-py3-none-any.whl.metadata (1.3 kB)\n",
            "Requirement already satisfied: numpy>=1.14.1 in /usr/local/lib/python3.10/dist-packages (from tf2onnx) (1.26.4)\n",
            "Collecting onnx>=1.4.1 (from tf2onnx)\n",
            "  Downloading onnx-1.17.0-cp310-cp310-manylinux_2_17_x86_64.manylinux2014_x86_64.whl.metadata (16 kB)\n",
            "Requirement already satisfied: requests in /usr/local/lib/python3.10/dist-packages (from tf2onnx) (2.32.3)\n",
            "Requirement already satisfied: six in /usr/local/lib/python3.10/dist-packages (from tf2onnx) (1.16.0)\n",
            "Requirement already satisfied: flatbuffers>=1.12 in /usr/local/lib/python3.10/dist-packages (from tf2onnx) (24.3.25)\n",
            "Collecting protobuf~=3.20 (from tf2onnx)\n",
            "  Downloading protobuf-3.20.3-cp310-cp310-manylinux_2_12_x86_64.manylinux2010_x86_64.whl.metadata (679 bytes)\n",
            "Requirement already satisfied: charset-normalizer<4,>=2 in /usr/local/lib/python3.10/dist-packages (from requests->tf2onnx) (3.4.0)\n",
            "Requirement already satisfied: idna<4,>=2.5 in /usr/local/lib/python3.10/dist-packages (from requests->tf2onnx) (3.10)\n",
            "Requirement already satisfied: urllib3<3,>=1.21.1 in /usr/local/lib/python3.10/dist-packages (from requests->tf2onnx) (2.2.3)\n",
            "Requirement already satisfied: certifi>=2017.4.17 in /usr/local/lib/python3.10/dist-packages (from requests->tf2onnx) (2024.8.30)\n",
            "Downloading tf2onnx-1.16.1-py3-none-any.whl (455 kB)\n",
            "\u001b[2K   \u001b[90m━━━━━━━━━━━━━━━━━━━━━━━━━━━━━━━━━━━━━━━━\u001b[0m \u001b[32m455.8/455.8 kB\u001b[0m \u001b[31m11.8 MB/s\u001b[0m eta \u001b[36m0:00:00\u001b[0m\n",
            "\u001b[?25hDownloading onnx-1.17.0-cp310-cp310-manylinux_2_17_x86_64.manylinux2014_x86_64.whl (16.0 MB)\n",
            "\u001b[2K   \u001b[90m━━━━━━━━━━━━━━━━━━━━━━━━━━━━━━━━━━━━━━━━\u001b[0m \u001b[32m16.0/16.0 MB\u001b[0m \u001b[31m104.1 MB/s\u001b[0m eta \u001b[36m0:00:00\u001b[0m\n",
            "\u001b[?25hDownloading protobuf-3.20.3-cp310-cp310-manylinux_2_12_x86_64.manylinux2010_x86_64.whl (1.1 MB)\n",
            "\u001b[2K   \u001b[90m━━━━━━━━━━━━━━━━━━━━━━━━━━━━━━━━━━━━━━━━\u001b[0m \u001b[32m1.1/1.1 MB\u001b[0m \u001b[31m58.3 MB/s\u001b[0m eta \u001b[36m0:00:00\u001b[0m\n",
            "\u001b[?25hInstalling collected packages: protobuf, onnx, tf2onnx\n",
            "  Attempting uninstall: protobuf\n",
            "    Found existing installation: protobuf 4.25.5\n",
            "    Uninstalling protobuf-4.25.5:\n",
            "      Successfully uninstalled protobuf-4.25.5\n",
            "\u001b[31mERROR: pip's dependency resolver does not currently take into account all the packages that are installed. This behaviour is the source of the following dependency conflicts.\n",
            "grpcio-status 1.62.3 requires protobuf>=4.21.6, but you have protobuf 3.20.3 which is incompatible.\u001b[0m\u001b[31m\n",
            "\u001b[0mSuccessfully installed onnx-1.17.0 protobuf-3.20.3 tf2onnx-1.16.1\n"
          ]
        },
        {
          "output_type": "display_data",
          "data": {
            "application/vnd.colab-display-data+json": {
              "pip_warning": {
                "packages": [
                  "google"
                ]
              },
              "id": "ea702b32778049d2966e2daa1ee6112f"
            }
          },
          "metadata": {}
        },
        {
          "output_type": "stream",
          "name": "stdout",
          "text": [
            "Requirement already satisfied: opencv-python in /usr/local/lib/python3.10/dist-packages (4.10.0.84)\n",
            "Requirement already satisfied: numpy>=1.21.2 in /usr/local/lib/python3.10/dist-packages (from opencv-python) (1.26.4)\n"
          ]
        }
      ]
    },
    {
      "cell_type": "code",
      "execution_count": null,
      "metadata": {
        "colab": {
          "base_uri": "https://localhost:8080/"
        },
        "id": "TI5E8JNKLxrD",
        "outputId": "c5789ee8-89ce-4805-f405-e7f72325326b"
      },
      "outputs": [
        {
          "output_type": "stream",
          "name": "stdout",
          "text": [
            "2.5.1+cu121\n",
            "True\n"
          ]
        }
      ],
      "source": [
        "#utilities\n",
        "import os\n",
        "import time\n",
        "import json\n",
        "import tqdm\n",
        "from tqdm import tqdm\n",
        "\n",
        "#deep learning\n",
        "import torch\n",
        "print(torch.__version__)  # Should print a compatible version\n",
        "print(torch.cuda.is_available())  #\n",
        "\n",
        "#ocr model\n",
        "import doctr\n",
        "from doctr.models import ocr_predictor\n",
        "from doctr.io import DocumentFile\n",
        "\n"
      ]
    },
    {
      "cell_type": "code",
      "source": [
        "!unzip /content/TIF_Double_Directory.zip"
      ],
      "metadata": {
        "colab": {
          "base_uri": "https://localhost:8080/"
        },
        "id": "33QoZeW-M-AO",
        "outputId": "1a94a804-9b96-4c56-a5fc-c88af253be44"
      },
      "execution_count": null,
      "outputs": [
        {
          "output_type": "stream",
          "name": "stdout",
          "text": [
            "Archive:  /content/TIF_Double_Directory.zip\n",
            "   creating: TIF_Double_Directory/\n",
            "  inflating: __MACOSX/._TIF_Double_Directory  \n",
            "   creating: TIF_Double_Directory/4005813/\n",
            "   creating: TIF_Double_Directory/4105565/\n",
            "   creating: TIF_Double_Directory/4104649/\n",
            "  inflating: TIF_Double_Directory/.DS_Store  \n",
            "  inflating: __MACOSX/TIF_Double_Directory/._.DS_Store  \n",
            "   creating: TIF_Double_Directory/4305776/\n",
            "   creating: TIF_Double_Directory/4104165/\n",
            "   creating: TIF_Double_Directory/48167_4000820/\n",
            "   creating: TIF_Double_Directory/4205888/\n",
            "   creating: TIF_Double_Directory/4302583/\n",
            "   creating: TIF_Double_Directory/4005318/\n",
            "   creating: TIF_Double_Directory/4307375/\n",
            "   creating: TIF_Double_Directory/4005800/\n",
            "   creating: TIF_Double_Directory/4306466/\n",
            "   creating: TIF_Double_Directory/4306607/\n",
            "   creating: TIF_Double_Directory/4302425/\n",
            "   creating: TIF_Double_Directory/4307353/\n",
            "   creating: TIF_Double_Directory/4004046/\n",
            "   creating: TIF_Double_Directory/4104592/\n",
            "   creating: TIF_Double_Directory/4306964/\n",
            "   creating: TIF_Double_Directory/4202463/\n",
            "   creating: TIF_Double_Directory/4203323/\n",
            "   creating: TIF_Double_Directory/4307340/\n",
            "   creating: TIF_Double_Directory/4004912/\n",
            "   creating: TIF_Double_Directory/4004575/\n",
            "   creating: TIF_Double_Directory/4204010/\n",
            "   creating: TIF_Double_Directory/4201768/\n",
            "  inflating: TIF_Double_Directory/4005813/.DS_Store  \n",
            "  inflating: __MACOSX/TIF_Double_Directory/4005813/._.DS_Store  \n",
            "  inflating: TIF_Double_Directory/4005813/4005813_0001.tif  \n",
            "  inflating: __MACOSX/TIF_Double_Directory/4005813/._4005813_0001.tif  \n",
            "  inflating: TIF_Double_Directory/4005813/4005813_0002.tif  \n",
            "  inflating: __MACOSX/TIF_Double_Directory/4005813/._4005813_0002.tif  \n",
            "  inflating: TIF_Double_Directory/4105565/.DS_Store  \n",
            "  inflating: __MACOSX/TIF_Double_Directory/4105565/._.DS_Store  \n",
            "  inflating: TIF_Double_Directory/4105565/4105565_0002.tif  \n",
            "  inflating: __MACOSX/TIF_Double_Directory/4105565/._4105565_0002.tif  \n",
            "  inflating: TIF_Double_Directory/4105565/4105565_0001.tif  \n",
            "  inflating: __MACOSX/TIF_Double_Directory/4105565/._4105565_0001.tif  \n",
            "  inflating: TIF_Double_Directory/4104649/4104649_0002.tif  \n",
            "  inflating: __MACOSX/TIF_Double_Directory/4104649/._4104649_0002.tif  \n",
            "  inflating: TIF_Double_Directory/4104649/.DS_Store  \n",
            "  inflating: __MACOSX/TIF_Double_Directory/4104649/._.DS_Store  \n",
            "  inflating: TIF_Double_Directory/4104649/4104649_0001.tif  \n",
            "  inflating: __MACOSX/TIF_Double_Directory/4104649/._4104649_0001.tif  \n",
            "  inflating: TIF_Double_Directory/4305776/4305776_0002.tif  \n",
            "  inflating: __MACOSX/TIF_Double_Directory/4305776/._4305776_0002.tif  \n",
            "  inflating: TIF_Double_Directory/4305776/4305776_0001.tif  \n",
            "  inflating: __MACOSX/TIF_Double_Directory/4305776/._4305776_0001.tif  \n",
            "  inflating: TIF_Double_Directory/4104165/.DS_Store  \n",
            "  inflating: __MACOSX/TIF_Double_Directory/4104165/._.DS_Store  \n",
            "  inflating: TIF_Double_Directory/4104165/4104165_0002.tif  \n",
            "  inflating: __MACOSX/TIF_Double_Directory/4104165/._4104165_0002.tif  \n",
            "  inflating: TIF_Double_Directory/4104165/4104165_0001.tif  \n",
            "  inflating: __MACOSX/TIF_Double_Directory/4104165/._4104165_0001.tif  \n",
            "  inflating: TIF_Double_Directory/48167_4000820/.DS_Store  \n",
            "  inflating: __MACOSX/TIF_Double_Directory/48167_4000820/._.DS_Store  \n",
            "  inflating: TIF_Double_Directory/48167_4000820/48167_4000820_0002.tif.tif  \n",
            "  inflating: __MACOSX/TIF_Double_Directory/48167_4000820/._48167_4000820_0002.tif.tif  \n",
            "  inflating: TIF_Double_Directory/48167_4000820/48167_4000820_0001.tif  \n",
            "  inflating: __MACOSX/TIF_Double_Directory/48167_4000820/._48167_4000820_0001.tif  \n",
            "  inflating: TIF_Double_Directory/4205888/4205888_0002.tif  \n",
            "  inflating: __MACOSX/TIF_Double_Directory/4205888/._4205888_0002.tif  \n",
            "  inflating: TIF_Double_Directory/4205888/4205888_0001.tif  \n",
            "  inflating: __MACOSX/TIF_Double_Directory/4205888/._4205888_0001.tif  \n",
            "  inflating: TIF_Double_Directory/4205888/.DS_Store  \n",
            "  inflating: __MACOSX/TIF_Double_Directory/4205888/._.DS_Store  \n",
            "  inflating: TIF_Double_Directory/4302583/4302583_0001.tif  \n",
            "  inflating: __MACOSX/TIF_Double_Directory/4302583/._4302583_0001.tif  \n",
            "  inflating: TIF_Double_Directory/4302583/4302583_0002.tif  \n",
            "  inflating: __MACOSX/TIF_Double_Directory/4302583/._4302583_0002.tif  \n",
            "  inflating: TIF_Double_Directory/4302583/.DS_Store  \n",
            "  inflating: __MACOSX/TIF_Double_Directory/4302583/._.DS_Store  \n",
            "  inflating: TIF_Double_Directory/4005318/.DS_Store  \n",
            "  inflating: __MACOSX/TIF_Double_Directory/4005318/._.DS_Store  \n",
            "  inflating: TIF_Double_Directory/4005318/4005318_0002.tif  \n",
            "  inflating: __MACOSX/TIF_Double_Directory/4005318/._4005318_0002.tif  \n",
            "  inflating: TIF_Double_Directory/4005318/4005318_0001.tif  \n",
            "  inflating: __MACOSX/TIF_Double_Directory/4005318/._4005318_0001.tif  \n",
            "  inflating: TIF_Double_Directory/4307375/4307375_0002.tif  \n",
            "  inflating: __MACOSX/TIF_Double_Directory/4307375/._4307375_0002.tif  \n",
            "  inflating: TIF_Double_Directory/4307375/4307375_0001.tif  \n",
            "  inflating: __MACOSX/TIF_Double_Directory/4307375/._4307375_0001.tif  \n",
            "  inflating: TIF_Double_Directory/4307375/.DS_Store  \n",
            "  inflating: __MACOSX/TIF_Double_Directory/4307375/._.DS_Store  \n",
            "  inflating: TIF_Double_Directory/4005800/.DS_Store  \n",
            "  inflating: __MACOSX/TIF_Double_Directory/4005800/._.DS_Store  \n",
            "  inflating: TIF_Double_Directory/4005800/4005800_0002.tif  \n",
            "  inflating: __MACOSX/TIF_Double_Directory/4005800/._4005800_0002.tif  \n",
            "  inflating: TIF_Double_Directory/4005800/4005800_0001.tif  \n",
            "  inflating: __MACOSX/TIF_Double_Directory/4005800/._4005800_0001.tif  \n",
            "  inflating: TIF_Double_Directory/4306466/.DS_Store  \n",
            "  inflating: __MACOSX/TIF_Double_Directory/4306466/._.DS_Store  \n",
            "  inflating: TIF_Double_Directory/4306466/4306466_0001.tif  \n",
            "  inflating: __MACOSX/TIF_Double_Directory/4306466/._4306466_0001.tif  \n",
            "  inflating: TIF_Double_Directory/4306466/4306466_0002.tif  \n",
            "  inflating: __MACOSX/TIF_Double_Directory/4306466/._4306466_0002.tif  \n",
            "  inflating: TIF_Double_Directory/4306607/.DS_Store  \n",
            "  inflating: __MACOSX/TIF_Double_Directory/4306607/._.DS_Store  \n",
            "  inflating: TIF_Double_Directory/4306607/4306607_0001.tif  \n",
            "  inflating: __MACOSX/TIF_Double_Directory/4306607/._4306607_0001.tif  \n",
            "  inflating: TIF_Double_Directory/4306607/4306607_0002.tif  \n",
            "  inflating: __MACOSX/TIF_Double_Directory/4306607/._4306607_0002.tif  \n",
            "  inflating: TIF_Double_Directory/4302425/.DS_Store  \n",
            "  inflating: __MACOSX/TIF_Double_Directory/4302425/._.DS_Store  \n",
            "  inflating: TIF_Double_Directory/4302425/4302425_0002.tif  \n",
            "  inflating: __MACOSX/TIF_Double_Directory/4302425/._4302425_0002.tif  \n",
            "  inflating: TIF_Double_Directory/4302425/4302425_0001.tif  \n",
            "  inflating: __MACOSX/TIF_Double_Directory/4302425/._4302425_0001.tif  \n",
            "  inflating: TIF_Double_Directory/4307353/.DS_Store  \n",
            "  inflating: __MACOSX/TIF_Double_Directory/4307353/._.DS_Store  \n",
            "  inflating: TIF_Double_Directory/4307353/4307353_0002.tif  \n",
            "  inflating: __MACOSX/TIF_Double_Directory/4307353/._4307353_0002.tif  \n",
            "  inflating: TIF_Double_Directory/4307353/4307353_0001.tif  \n",
            "  inflating: __MACOSX/TIF_Double_Directory/4307353/._4307353_0001.tif  \n",
            "  inflating: TIF_Double_Directory/4004046/.DS_Store  \n",
            "  inflating: __MACOSX/TIF_Double_Directory/4004046/._.DS_Store  \n",
            "  inflating: TIF_Double_Directory/4004046/4004046_0001.tif  \n",
            "  inflating: __MACOSX/TIF_Double_Directory/4004046/._4004046_0001.tif  \n",
            "  inflating: TIF_Double_Directory/4004046/4004046_0002.tif  \n",
            "  inflating: __MACOSX/TIF_Double_Directory/4004046/._4004046_0002.tif  \n",
            "  inflating: TIF_Double_Directory/4104592/.DS_Store  \n",
            "  inflating: __MACOSX/TIF_Double_Directory/4104592/._.DS_Store  \n",
            "  inflating: TIF_Double_Directory/4104592/4104592_0002.tif  \n",
            "  inflating: __MACOSX/TIF_Double_Directory/4104592/._4104592_0002.tif  \n",
            "  inflating: TIF_Double_Directory/4104592/4104592_0001.tif  \n",
            "  inflating: __MACOSX/TIF_Double_Directory/4104592/._4104592_0001.tif  \n",
            "  inflating: TIF_Double_Directory/4306964/.DS_Store  \n",
            "  inflating: __MACOSX/TIF_Double_Directory/4306964/._.DS_Store  \n",
            "  inflating: TIF_Double_Directory/4306964/4306964_0001.tif  \n",
            "  inflating: __MACOSX/TIF_Double_Directory/4306964/._4306964_0001.tif  \n",
            "  inflating: TIF_Double_Directory/4306964/4306964_0002.tif  \n",
            "  inflating: __MACOSX/TIF_Double_Directory/4306964/._4306964_0002.tif  \n",
            "  inflating: TIF_Double_Directory/4202463/.DS_Store  \n",
            "  inflating: __MACOSX/TIF_Double_Directory/4202463/._.DS_Store  \n",
            "  inflating: TIF_Double_Directory/4202463/4202463_0002.tif  \n",
            "  inflating: __MACOSX/TIF_Double_Directory/4202463/._4202463_0002.tif  \n",
            "  inflating: TIF_Double_Directory/4202463/4202463_0001.tif  \n",
            "  inflating: __MACOSX/TIF_Double_Directory/4202463/._4202463_0001.tif  \n",
            "  inflating: TIF_Double_Directory/4203323/.DS_Store  \n",
            "  inflating: __MACOSX/TIF_Double_Directory/4203323/._.DS_Store  \n",
            "  inflating: TIF_Double_Directory/4203323/4203323_0002.tif  \n",
            "  inflating: __MACOSX/TIF_Double_Directory/4203323/._4203323_0002.tif  \n",
            "  inflating: TIF_Double_Directory/4203323/4203323_0001.tif  \n",
            "  inflating: __MACOSX/TIF_Double_Directory/4203323/._4203323_0001.tif  \n",
            "  inflating: TIF_Double_Directory/4307340/4307340_0001.tif  \n",
            "  inflating: __MACOSX/TIF_Double_Directory/4307340/._4307340_0001.tif  \n",
            "  inflating: TIF_Double_Directory/4307340/4307340_0002.tif  \n",
            "  inflating: __MACOSX/TIF_Double_Directory/4307340/._4307340_0002.tif  \n",
            "  inflating: TIF_Double_Directory/4307340/.DS_Store  \n",
            "  inflating: __MACOSX/TIF_Double_Directory/4307340/._.DS_Store  \n",
            "  inflating: TIF_Double_Directory/4004912/.DS_Store  \n",
            "  inflating: __MACOSX/TIF_Double_Directory/4004912/._.DS_Store  \n",
            "  inflating: TIF_Double_Directory/4004912/4004912_0002.tif  \n",
            "  inflating: __MACOSX/TIF_Double_Directory/4004912/._4004912_0002.tif  \n",
            "  inflating: TIF_Double_Directory/4004912/4004912_0001.tif  \n",
            "  inflating: __MACOSX/TIF_Double_Directory/4004912/._4004912_0001.tif  \n",
            "  inflating: TIF_Double_Directory/4004575/.DS_Store  \n",
            "  inflating: __MACOSX/TIF_Double_Directory/4004575/._.DS_Store  \n",
            "  inflating: TIF_Double_Directory/4004575/4004575_0001.tif  \n",
            "  inflating: __MACOSX/TIF_Double_Directory/4004575/._4004575_0001.tif  \n",
            "  inflating: TIF_Double_Directory/4004575/4004575_0002.tif  \n",
            "  inflating: __MACOSX/TIF_Double_Directory/4004575/._4004575_0002.tif  \n",
            "  inflating: TIF_Double_Directory/4204010/.DS_Store  \n",
            "  inflating: __MACOSX/TIF_Double_Directory/4204010/._.DS_Store  \n",
            "  inflating: TIF_Double_Directory/4204010/4204010_0002.tif  \n",
            "  inflating: __MACOSX/TIF_Double_Directory/4204010/._4204010_0002.tif  \n",
            "  inflating: TIF_Double_Directory/4204010/4204010_0001.tif  \n",
            "  inflating: __MACOSX/TIF_Double_Directory/4204010/._4204010_0001.tif  \n",
            "  inflating: TIF_Double_Directory/4201768/4201768_0002.tif  \n",
            "  inflating: __MACOSX/TIF_Double_Directory/4201768/._4201768_0002.tif  \n",
            "  inflating: TIF_Double_Directory/4201768/4201768_0001.tif  \n",
            "  inflating: __MACOSX/TIF_Double_Directory/4201768/._4201768_0001.tif  \n",
            "  inflating: TIF_Double_Directory/4201768/.DS_Store  \n",
            "  inflating: __MACOSX/TIF_Double_Directory/4201768/._.DS_Store  \n"
          ]
        }
      ]
    },
    {
      "cell_type": "markdown",
      "metadata": {
        "id": "CBu2pJRDLxrE"
      },
      "source": [
        "# Initializing OCR Model"
      ]
    },
    {
      "cell_type": "code",
      "execution_count": null,
      "metadata": {
        "colab": {
          "base_uri": "https://localhost:8080/",
          "height": 309,
          "referenced_widgets": [
            "796a4aaa997346cb899be20acdaebbc6",
            "d96799ce87a046d59d35e3597d44e0f1",
            "72385d16b84642109154c124b2387033",
            "3b8840f12b60446097682875de30cfde",
            "328a36375b7f4614822a17265f7cb6fb",
            "77c11f57e427455890fe673021356e21",
            "7c11d75dc19a4006ac1031840941af89",
            "7f334fe2c95b45398f434a87684a6541",
            "d6ce8eeed98047ce820e6431afa0af24",
            "e34e98d3ce4f4dbfbb9bac2e01e911df",
            "9239c06767da4827afa2f6a53d48da87",
            "a996bde828824cc6bbe05729629c967b",
            "f2c5360eee7a4348b8da4a059e57c3a7",
            "5c419b7f235840ebbd34de57ae6828c6",
            "6e2b3bb0289a4038b3e46ae83db11b94",
            "afb7bc6869084b5a926c28f4bc8f6cd4",
            "22bf4f1282ca43c4bc28c08155ebf660",
            "ab0785ee2234455ea3c5ec7e42c56651",
            "9e59a28a37074bee8c7204402006c681",
            "628e72d3454e4a899f633f0e9708575e",
            "f460542a48ba42e0920a8529bbf7aaba",
            "58c4042930cb4b21bd65e244e9115cb9"
          ]
        },
        "id": "yTg_o_GTLxrF",
        "outputId": "5f427855-747b-4d01-e398-c8d4390a46ba"
      },
      "outputs": [
        {
          "output_type": "stream",
          "name": "stdout",
          "text": [
            "Downloading https://doctr-static.mindee.com/models?id=v0.9.0/db_resnet50-649fa22b.weights.h5&src=0 to /root/.cache/doctr/models/db_resnet50-649fa22b.weights.h5\n"
          ]
        },
        {
          "output_type": "display_data",
          "data": {
            "text/plain": [
              "  0%|          | 0/101736536 [00:00<?, ?it/s]"
            ],
            "application/vnd.jupyter.widget-view+json": {
              "version_major": 2,
              "version_minor": 0,
              "model_id": "796a4aaa997346cb899be20acdaebbc6"
            }
          },
          "metadata": {}
        },
        {
          "output_type": "stream",
          "name": "stderr",
          "text": [
            "WARNING:tensorflow:Model's `__init__()` arguments contain non-serializable objects. Please implement a `get_config()` method in the subclassed Model for proper saving and loading. Defaulting to empty config.\n",
            "WARNING:tensorflow:Model's `__init__()` arguments contain non-serializable objects. Please implement a `get_config()` method in the subclassed Model for proper saving and loading. Defaulting to empty config.\n",
            "DEBUG:tensorflow:Layer lstm will use cuDNN kernels when running on GPU.\n",
            "DEBUG:tensorflow:Layer lstm will use cuDNN kernels when running on GPU.\n",
            "DEBUG:tensorflow:Layer lstm will use cuDNN kernels when running on GPU.\n",
            "DEBUG:tensorflow:Layer lstm_1 will use cuDNN kernels when running on GPU.\n",
            "DEBUG:tensorflow:Layer lstm_1 will use cuDNN kernels when running on GPU.\n",
            "DEBUG:tensorflow:Layer lstm_1 will use cuDNN kernels when running on GPU.\n"
          ]
        },
        {
          "output_type": "stream",
          "name": "stdout",
          "text": [
            "Downloading https://doctr-static.mindee.com/models?id=v0.9.0/crnn_vgg16_bn-9c188f45.weights.h5&src=0 to /root/.cache/doctr/models/crnn_vgg16_bn-9c188f45.weights.h5\n"
          ]
        },
        {
          "output_type": "display_data",
          "data": {
            "text/plain": [
              "  0%|          | 0/63386336 [00:00<?, ?it/s]"
            ],
            "application/vnd.jupyter.widget-view+json": {
              "version_major": 2,
              "version_minor": 0,
              "model_id": "a996bde828824cc6bbe05729629c967b"
            }
          },
          "metadata": {}
        },
        {
          "output_type": "stream",
          "name": "stderr",
          "text": [
            "WARNING:tensorflow:Model's `__init__()` arguments contain non-serializable objects. Please implement a `get_config()` method in the subclassed Model for proper saving and loading. Defaulting to empty config.\n",
            "WARNING:tensorflow:Model's `__init__()` arguments contain non-serializable objects. Please implement a `get_config()` method in the subclassed Model for proper saving and loading. Defaulting to empty config.\n"
          ]
        }
      ],
      "source": [
        "#initialize ocr model, given model is the closest to textract\n",
        "  #det_arch - text detection model\n",
        "  #reco_arch - text recognition mdoel\n",
        "ocr = ocr_predictor(det_arch='db_resnet50', reco_arch='crnn_vgg16_bn', pretrained=True)\n"
      ]
    },
    {
      "cell_type": "markdown",
      "source": [
        "# Helper Functions - Collect Data, Run OCR, Process OCR Output, and Output final JSON"
      ],
      "metadata": {
        "id": "lCGaH580bps-"
      }
    },
    {
      "cell_type": "markdown",
      "source": [
        "## Single Page Approach"
      ],
      "metadata": {
        "id": "4bjgI7CraSio"
      }
    },
    {
      "cell_type": "code",
      "execution_count": null,
      "metadata": {
        "id": "sMB02NATLxrF"
      },
      "outputs": [],
      "source": [
        "def get_ocr_single(document):\n",
        "\n",
        "  \"\"\"\n",
        "    This function is our OCR wrapper - does OCR + processes OCR model output.\n",
        "    This function is for the one-page approach. It will expect a docTR document with one page.\n",
        "    This function accepts a docTR document object, processes it using the docTR OCR model to extract the text,\n",
        "    deals with model output to output a concatenated string with the text.\n",
        "\n",
        "    Parameters:\n",
        "    - document (DocumentFile): A Doctr document object\n",
        "\n",
        "    Returns:\n",
        "    - text (str): The concatenated OCR text extracted from the document, where words are separated by spaces.\n",
        "  \"\"\"\n",
        "\n",
        "  #OCR\n",
        "  ocr_result = ocr(document) #passing docTR document object to model\n",
        "\n",
        "  #Output Processing\n",
        "  text = '' #creating an empty string\n",
        "\n",
        "  for page in ocr_result.pages: #iterating through the one-page docTR object structure\n",
        "    for block in page.blocks:\n",
        "      for line in block.lines:\n",
        "        for word in line.words:\n",
        "          text += word.value + ' ' #adding a space after each word\n",
        "        text += '\\n' + ' ' #adding a line after each word\n",
        "\n",
        "\n",
        "  return text\n",
        "\n"
      ]
    },
    {
      "cell_type": "code",
      "execution_count": null,
      "metadata": {
        "id": "E-IYmNyULxrF"
      },
      "outputs": [],
      "source": [
        "#function that takes a directory, retrieves data from it, converts them to Doctr document objects, passes it to the ocr model, and collects the output\n",
        "\n",
        "def get_data_single(directory):\n",
        "\n",
        "\n",
        "  \"\"\"\n",
        "    This function is for handling the one page approach.\n",
        "    This function retrieves TIFF files from the specified directory, converts them into DocTR document objects,\n",
        "    processes them through the docTR OCR model to extract text, and returns the output in a structured format.\n",
        "\n",
        "    Parameters:\n",
        "    - directory : The directory containing the TIFF files to be processed.It assumes that all TIFF documents are contained within one.\n",
        "\n",
        "    Returns:\n",
        "    - output_json (dict): A dictionary where the keys are document names and the values are the corresponding OCR output texts.\n",
        "    - document_names (list): A list of the names of the documents processed (TIFF files). For Debugging.\n",
        "    - document_paths (list): A list of the full file paths of the documents. For Debugging.\n",
        "    - document_objects (list): A list of Doctr document objects created from the TIFF files. For Debugging.\n",
        "    - document_texts (list): A list of OCR text outputs corresponding to each document. For Debugging.\n",
        "  \"\"\"\n",
        "\n",
        "  start_time = time.time()\n",
        "\n",
        "  #Storage\n",
        "  document_names = [item for item in os.listdir(directory) if item.endswith('tif')]\n",
        "  document_paths = []\n",
        "  document_objects = [] #doctr document objects\n",
        "  document_texts = [] #ocr output from document objects\n",
        "  output_json = {} # final outpus json\n",
        "\n",
        "\n",
        "  #Path Collection\n",
        "    #gets the paths of all stored TIFF files\n",
        "  for doc in os.listdir(directory):\n",
        "    if doc.endswith('.tif'):\n",
        "      path = os.path.join(directory, doc)\n",
        "      document_paths.append(path)\n",
        "\n",
        "\n",
        "  #Doc Object Creation\n",
        "    #creates docTR document objects from the TIFF files\n",
        "  for path in document_paths:\n",
        "    document = DocumentFile.from_images(path)\n",
        "    document_objects.append(document)\n",
        "\n",
        "  #OCR\n",
        "    #stores a list of all OCR outputs\n",
        "  for doc in tqdm(document_objects, desc = 'Processing Document'):\n",
        "    text = get_ocr_single(doc) #calling out ocr wrapper\n",
        "    document_texts.append(text)\n",
        "\n",
        "  end_time = time.time()\n",
        "  print(f'Run time for {len(document_names)} documents: {end_time - start_time}.')\n",
        "\n",
        "  #Populating JSON\n",
        "    #keys are document names, values are OCR outputs\n",
        "  for name, text in zip(document_names, document_texts):\n",
        "    output_json[name] = text\n",
        "\n",
        "\n",
        "  #returns the JSON and other information for debugging.\n",
        "  return output_json, document_names, document_paths, document_objects, document_texts"
      ]
    },
    {
      "cell_type": "code",
      "source": [
        "#Running\n",
        "directory = '/content/' #defining directory name\n",
        "output_json, document_names, document_paths, document_images, document_texts = get_data_single(directory = directory) #collecting outputs"
      ],
      "metadata": {
        "id": "NFyv3dmHLJW0",
        "colab": {
          "base_uri": "https://localhost:8080/"
        },
        "outputId": "35d63c45-ee4e-44ad-a221-0ba83ad3620a"
      },
      "execution_count": null,
      "outputs": [
        {
          "output_type": "stream",
          "name": "stderr",
          "text": [
            "Processing Document: 100%|██████████| 25/25 [03:51<00:00,  9.25s/it]"
          ]
        },
        {
          "output_type": "stream",
          "name": "stdout",
          "text": [
            "Run time for 25 documents: 232.0867350101471.\n"
          ]
        },
        {
          "output_type": "stream",
          "name": "stderr",
          "text": [
            "\n"
          ]
        }
      ]
    },
    {
      "cell_type": "code",
      "source": [
        "with open('output_json_25_newline.json', 'w') as file:\n",
        "  json.dump(output_json, file, indent = 4)"
      ],
      "metadata": {
        "id": "OSDZRpAPLK3K"
      },
      "execution_count": null,
      "outputs": []
    },
    {
      "cell_type": "code",
      "source": [
        "len(output_json)"
      ],
      "metadata": {
        "colab": {
          "base_uri": "https://localhost:8080/"
        },
        "id": "XlJJcN-ZkaIs",
        "outputId": "405cd14a-3191-4ce2-c435-8f4cbaa45557"
      },
      "execution_count": null,
      "outputs": [
        {
          "output_type": "execute_result",
          "data": {
            "text/plain": [
              "25"
            ]
          },
          "metadata": {},
          "execution_count": 22
        }
      ]
    },
    {
      "cell_type": "markdown",
      "source": [
        "## Two-Page Approach"
      ],
      "metadata": {
        "id": "ZoLB2A1MaZFa"
      }
    },
    {
      "cell_type": "code",
      "source": [
        "def get_ocr_double(document): #accepts DocTR documenr\n",
        "\n",
        "\n",
        "  \"\"\"\n",
        "    This function is our OCR wrapper - does OCR + processes OCR model output.\n",
        "    This function is for the two-page approach. It will expect a docTR document with two-pages.\n",
        "    This function accepts a docTR document object with two-pages, processes it using the docTR OCR model to extract the text,\n",
        "    deals with model output to output a concatenated string with the text.\n",
        "\n",
        "    Parameters:\n",
        "    - document (DocumentFile): A Doctr document object\n",
        "\n",
        "    Returns:\n",
        "    - text (str): The concatenated OCR text extracted from the document, where words are separated by spaces.\n",
        "  \"\"\"\n",
        "\n",
        "  #OCR\n",
        "  ocr_result = ocr(document)  #passing two-page docTR object through the OCR model\n",
        "\n",
        "\n",
        "  #Output Processing\n",
        "  text = ''\n",
        "\n",
        "  for page in ocr_result.pages: #iterating through document object\n",
        "      for block in page.blocks:\n",
        "          for line in block.lines:\n",
        "              for word in line.words:\n",
        "                  text += word.value + ' ' #each word followed by a space\n",
        "              text += '\\n' + ' ' #each line followed by a new line\n",
        "\n",
        "  return text\n",
        "\n"
      ],
      "metadata": {
        "id": "xZt8csdTDjaG"
      },
      "execution_count": null,
      "outputs": []
    },
    {
      "cell_type": "code",
      "source": [
        "def get_data_double(directory):\n",
        "\n",
        "\n",
        "  \"\"\"\n",
        "    This function is for handling the two page approach.\n",
        "    This function retrieves TIFF files from the specified directory, converts them into DocTR document objects (each with two pages),\n",
        "    processes them through the docTR OCR model to extract text, and returns the output in a structured format.\n",
        "\n",
        "    Parameters:\n",
        "    - directory : The directory containing the TIFF files to be processed. Expects a nested directory structure as below:\n",
        "\n",
        "      document_directory/\n",
        "      │\n",
        "      ├── document_1/\n",
        "      │   ├── page1.tif\n",
        "      │   └── page2.tif\n",
        "      │\n",
        "      ├── document_2/\n",
        "      │   ├── page1.tif\n",
        "      │   └── page2.tif\n",
        "      │\n",
        "      ├── document_3/\n",
        "      │   ├── page1.tif\n",
        "      │   └── page2.tif\n",
        "\n",
        "    Returns:\n",
        "    - output_json (dict): A dictionary where the keys are document names and the values are the corresponding OCR output texts.\n",
        "    - document_names (list): A list of the names of the documents processed (TIFF files). For Debugging.\n",
        "    - document_paths (list): A list of the full file paths of the documents. For Debugging.\n",
        "    - document_objects (list): A list of Doctr document objects created from the TIFF files. For Debugging.\n",
        "    - document_texts (list): A list of OCR text outputs corresponding to each document. For Debugging.\n",
        "  \"\"\"\n",
        "\n",
        "  start_time = time.time()\n",
        "\n",
        "  #Storage\n",
        "  internal_directory_paths = [] #names of all internal directories (document_1/, document_2/)\n",
        "  document_names = [] #names of all documents\n",
        "  document_paths = [] #full paths for all documents\n",
        "  first_page_names = [] #the name of the first document, this will be the key in the output JSON\n",
        "\n",
        "  document_objects = [] #document objects\n",
        "  document_texts = [] #ocr outputs\n",
        "  output_json = {} #final output JSON\n",
        "\n",
        "  #Path Collection\n",
        "    #gets the paths of all stored files, we need it in the end. we do not need this, just for debugging.\n",
        "    #can also do internal_directory_paths = [directory for directory in master directory]\n",
        "  for internal_directory in os.listdir(directory):\n",
        "      if internal_directory != \".DS_Store\":\n",
        "        directory_path = os.path.join(directory, internal_directory)\n",
        "        internal_directory_paths.append(directory_path) #this will store all internal directory paths\n",
        "        if os.path.isdir(directory_path):\n",
        "          for page in os.listdir(directory_path):\n",
        "             if page != '.DS_Store':\n",
        "              document_names.append(page)\n",
        "              if page.endswith('.tif'):\n",
        "                document_path = os.path.join(directory, internal_directory, page)\n",
        "                document_paths.append(document_path) #this will store all full paths\n",
        "\n",
        "  #Document Creation\n",
        "    #converts every internal folder into a DocTR document object - with 2 pages.\n",
        "  for internal_directory in internal_directory_paths:\n",
        "    pages = os.listdir(internal_directory) #pages within the directory for a document\n",
        "    if \".DS_Store\" in pages:\n",
        "      pages.remove(\".DS_Store\") #weird google issue\n",
        "    pages.sort() #sorting by page number, important for OCR output\n",
        "    page1 = pages[0]\n",
        "    page2 = pages[1]\n",
        "    first_page_names.append(page1)\n",
        "    page1 = os.path.join(internal_directory, page1) #getting full path\n",
        "    page2 = os.path.join(internal_directory, page2) #getting full path\n",
        "    document = DocumentFile.from_images([page1, page2]) #docTR doc object created with two pages\n",
        "    document_objects.append(document) #adding it to the object list\n",
        "\n",
        "\n",
        "\n",
        "  #OCR\n",
        "  for i, doc in tqdm(enumerate(document_objects, start = 1), desc = 'Processing Document', total = len(document_objects)):\n",
        "    print(f'Doing OCR on Document {i}')\n",
        "    text = get_ocr_double(doc) #calling  ocr wrapper function\n",
        "    document_texts.append(text) #adding to a list of texts\n",
        "\n",
        "  end_time = time.time()\n",
        "  print(f'Run time for {len(first_page_names)} documents: {end_time - start_time}.')\n",
        "\n",
        "  #Populating JSON\n",
        "  #keys are document names, values are OCR outputs\n",
        "  for name, text in zip(first_page_names, document_texts):\n",
        "    output_json[name] = text\n",
        "\n",
        "  return output_json, document_names, first_page_names, document_objects, document_texts"
      ],
      "metadata": {
        "id": "k_EQulvtDjcU"
      },
      "execution_count": null,
      "outputs": []
    },
    {
      "cell_type": "markdown",
      "source": [
        "# Main"
      ],
      "metadata": {
        "id": "wwsz63o2cCUA"
      }
    },
    {
      "cell_type": "code",
      "source": [
        "#Running\n",
        "directory = '/content/TIF_Double_Directory' #giving directory name\n",
        "output_json, document_names, first_page_names, document_objects, document_texts = get_data_double(directory = directory) #collecting output\n",
        "\n",
        "\n",
        "#Saving JSON to local machine\n",
        "with open('output_json__two_25.json', 'w') as file:\n",
        "  json.dump(output_json, file, indent = 8)"
      ],
      "metadata": {
        "colab": {
          "base_uri": "https://localhost:8080/"
        },
        "id": "hDVfPufKLEEB",
        "outputId": "7e326e14-a1fe-48f1-9923-8a4ea92b8884"
      },
      "execution_count": null,
      "outputs": [
        {
          "output_type": "stream",
          "name": "stdout",
          "text": [
            "Doing OCR on Document 1\n",
            "Doing OCR on Document 2\n",
            "Doing OCR on Document 3\n",
            "Doing OCR on Document 4\n",
            "Doing OCR on Document 5\n",
            "Doing OCR on Document 6\n",
            "Doing OCR on Document 7\n",
            "Doing OCR on Document 8\n",
            "Doing OCR on Document 9\n",
            "Doing OCR on Document 10\n",
            "Doing OCR on Document 11\n",
            "Doing OCR on Document 12\n",
            "Doing OCR on Document 13\n",
            "Doing OCR on Document 14\n",
            "Doing OCR on Document 15\n",
            "Doing OCR on Document 16\n",
            "Doing OCR on Document 17\n",
            "Doing OCR on Document 18\n",
            "Doing OCR on Document 19\n",
            "Doing OCR on Document 20\n",
            "Doing OCR on Document 21\n",
            "Doing OCR on Document 22\n",
            "Doing OCR on Document 23\n",
            "Doing OCR on Document 24\n",
            "Doing OCR on Document 25\n",
            "Run time for 50 documents: 470.6102738380432.\n"
          ]
        }
      ]
    }
  ],
  "metadata": {
    "kernelspec": {
      "display_name": "Python 3",
      "name": "python3"
    },
    "language_info": {
      "name": "python",
      "version": "3.11.3 (main, Apr 19 2023, 18:51:09) [Clang 14.0.6 ]"
    },
    "orig_nbformat": 4,
    "vscode": {
      "interpreter": {
        "hash": "cd51ebb4cb3b40addb06731ef96b4dc3454ac60ff2893a87c577360d8508737e"
      }
    },
    "colab": {
      "provenance": [],
      "machine_shape": "hm",
      "gpuType": "L4",
      "collapsed_sections": [
        "Vdw8LXahLxrC",
        "CBu2pJRDLxrE",
        "4bjgI7CraSio"
      ]
    },
    "accelerator": "GPU",
    "widgets": {
      "application/vnd.jupyter.widget-state+json": {
        "796a4aaa997346cb899be20acdaebbc6": {
          "model_module": "@jupyter-widgets/controls",
          "model_name": "HBoxModel",
          "model_module_version": "1.5.0",
          "state": {
            "_dom_classes": [],
            "_model_module": "@jupyter-widgets/controls",
            "_model_module_version": "1.5.0",
            "_model_name": "HBoxModel",
            "_view_count": null,
            "_view_module": "@jupyter-widgets/controls",
            "_view_module_version": "1.5.0",
            "_view_name": "HBoxView",
            "box_style": "",
            "children": [
              "IPY_MODEL_d96799ce87a046d59d35e3597d44e0f1",
              "IPY_MODEL_72385d16b84642109154c124b2387033",
              "IPY_MODEL_3b8840f12b60446097682875de30cfde"
            ],
            "layout": "IPY_MODEL_328a36375b7f4614822a17265f7cb6fb"
          }
        },
        "d96799ce87a046d59d35e3597d44e0f1": {
          "model_module": "@jupyter-widgets/controls",
          "model_name": "HTMLModel",
          "model_module_version": "1.5.0",
          "state": {
            "_dom_classes": [],
            "_model_module": "@jupyter-widgets/controls",
            "_model_module_version": "1.5.0",
            "_model_name": "HTMLModel",
            "_view_count": null,
            "_view_module": "@jupyter-widgets/controls",
            "_view_module_version": "1.5.0",
            "_view_name": "HTMLView",
            "description": "",
            "description_tooltip": null,
            "layout": "IPY_MODEL_77c11f57e427455890fe673021356e21",
            "placeholder": "​",
            "style": "IPY_MODEL_7c11d75dc19a4006ac1031840941af89",
            "value": ""
          }
        },
        "72385d16b84642109154c124b2387033": {
          "model_module": "@jupyter-widgets/controls",
          "model_name": "FloatProgressModel",
          "model_module_version": "1.5.0",
          "state": {
            "_dom_classes": [],
            "_model_module": "@jupyter-widgets/controls",
            "_model_module_version": "1.5.0",
            "_model_name": "FloatProgressModel",
            "_view_count": null,
            "_view_module": "@jupyter-widgets/controls",
            "_view_module_version": "1.5.0",
            "_view_name": "ProgressView",
            "bar_style": "success",
            "description": "",
            "description_tooltip": null,
            "layout": "IPY_MODEL_7f334fe2c95b45398f434a87684a6541",
            "max": 101736536,
            "min": 0,
            "orientation": "horizontal",
            "style": "IPY_MODEL_d6ce8eeed98047ce820e6431afa0af24",
            "value": 101736536
          }
        },
        "3b8840f12b60446097682875de30cfde": {
          "model_module": "@jupyter-widgets/controls",
          "model_name": "HTMLModel",
          "model_module_version": "1.5.0",
          "state": {
            "_dom_classes": [],
            "_model_module": "@jupyter-widgets/controls",
            "_model_module_version": "1.5.0",
            "_model_name": "HTMLModel",
            "_view_count": null,
            "_view_module": "@jupyter-widgets/controls",
            "_view_module_version": "1.5.0",
            "_view_name": "HTMLView",
            "description": "",
            "description_tooltip": null,
            "layout": "IPY_MODEL_e34e98d3ce4f4dbfbb9bac2e01e911df",
            "placeholder": "​",
            "style": "IPY_MODEL_9239c06767da4827afa2f6a53d48da87",
            "value": " 101737472/? [00:01&lt;00:00, 57592298.95it/s]"
          }
        },
        "328a36375b7f4614822a17265f7cb6fb": {
          "model_module": "@jupyter-widgets/base",
          "model_name": "LayoutModel",
          "model_module_version": "1.2.0",
          "state": {
            "_model_module": "@jupyter-widgets/base",
            "_model_module_version": "1.2.0",
            "_model_name": "LayoutModel",
            "_view_count": null,
            "_view_module": "@jupyter-widgets/base",
            "_view_module_version": "1.2.0",
            "_view_name": "LayoutView",
            "align_content": null,
            "align_items": null,
            "align_self": null,
            "border": null,
            "bottom": null,
            "display": null,
            "flex": null,
            "flex_flow": null,
            "grid_area": null,
            "grid_auto_columns": null,
            "grid_auto_flow": null,
            "grid_auto_rows": null,
            "grid_column": null,
            "grid_gap": null,
            "grid_row": null,
            "grid_template_areas": null,
            "grid_template_columns": null,
            "grid_template_rows": null,
            "height": null,
            "justify_content": null,
            "justify_items": null,
            "left": null,
            "margin": null,
            "max_height": null,
            "max_width": null,
            "min_height": null,
            "min_width": null,
            "object_fit": null,
            "object_position": null,
            "order": null,
            "overflow": null,
            "overflow_x": null,
            "overflow_y": null,
            "padding": null,
            "right": null,
            "top": null,
            "visibility": null,
            "width": null
          }
        },
        "77c11f57e427455890fe673021356e21": {
          "model_module": "@jupyter-widgets/base",
          "model_name": "LayoutModel",
          "model_module_version": "1.2.0",
          "state": {
            "_model_module": "@jupyter-widgets/base",
            "_model_module_version": "1.2.0",
            "_model_name": "LayoutModel",
            "_view_count": null,
            "_view_module": "@jupyter-widgets/base",
            "_view_module_version": "1.2.0",
            "_view_name": "LayoutView",
            "align_content": null,
            "align_items": null,
            "align_self": null,
            "border": null,
            "bottom": null,
            "display": null,
            "flex": null,
            "flex_flow": null,
            "grid_area": null,
            "grid_auto_columns": null,
            "grid_auto_flow": null,
            "grid_auto_rows": null,
            "grid_column": null,
            "grid_gap": null,
            "grid_row": null,
            "grid_template_areas": null,
            "grid_template_columns": null,
            "grid_template_rows": null,
            "height": null,
            "justify_content": null,
            "justify_items": null,
            "left": null,
            "margin": null,
            "max_height": null,
            "max_width": null,
            "min_height": null,
            "min_width": null,
            "object_fit": null,
            "object_position": null,
            "order": null,
            "overflow": null,
            "overflow_x": null,
            "overflow_y": null,
            "padding": null,
            "right": null,
            "top": null,
            "visibility": null,
            "width": null
          }
        },
        "7c11d75dc19a4006ac1031840941af89": {
          "model_module": "@jupyter-widgets/controls",
          "model_name": "DescriptionStyleModel",
          "model_module_version": "1.5.0",
          "state": {
            "_model_module": "@jupyter-widgets/controls",
            "_model_module_version": "1.5.0",
            "_model_name": "DescriptionStyleModel",
            "_view_count": null,
            "_view_module": "@jupyter-widgets/base",
            "_view_module_version": "1.2.0",
            "_view_name": "StyleView",
            "description_width": ""
          }
        },
        "7f334fe2c95b45398f434a87684a6541": {
          "model_module": "@jupyter-widgets/base",
          "model_name": "LayoutModel",
          "model_module_version": "1.2.0",
          "state": {
            "_model_module": "@jupyter-widgets/base",
            "_model_module_version": "1.2.0",
            "_model_name": "LayoutModel",
            "_view_count": null,
            "_view_module": "@jupyter-widgets/base",
            "_view_module_version": "1.2.0",
            "_view_name": "LayoutView",
            "align_content": null,
            "align_items": null,
            "align_self": null,
            "border": null,
            "bottom": null,
            "display": null,
            "flex": null,
            "flex_flow": null,
            "grid_area": null,
            "grid_auto_columns": null,
            "grid_auto_flow": null,
            "grid_auto_rows": null,
            "grid_column": null,
            "grid_gap": null,
            "grid_row": null,
            "grid_template_areas": null,
            "grid_template_columns": null,
            "grid_template_rows": null,
            "height": null,
            "justify_content": null,
            "justify_items": null,
            "left": null,
            "margin": null,
            "max_height": null,
            "max_width": null,
            "min_height": null,
            "min_width": null,
            "object_fit": null,
            "object_position": null,
            "order": null,
            "overflow": null,
            "overflow_x": null,
            "overflow_y": null,
            "padding": null,
            "right": null,
            "top": null,
            "visibility": null,
            "width": null
          }
        },
        "d6ce8eeed98047ce820e6431afa0af24": {
          "model_module": "@jupyter-widgets/controls",
          "model_name": "ProgressStyleModel",
          "model_module_version": "1.5.0",
          "state": {
            "_model_module": "@jupyter-widgets/controls",
            "_model_module_version": "1.5.0",
            "_model_name": "ProgressStyleModel",
            "_view_count": null,
            "_view_module": "@jupyter-widgets/base",
            "_view_module_version": "1.2.0",
            "_view_name": "StyleView",
            "bar_color": null,
            "description_width": ""
          }
        },
        "e34e98d3ce4f4dbfbb9bac2e01e911df": {
          "model_module": "@jupyter-widgets/base",
          "model_name": "LayoutModel",
          "model_module_version": "1.2.0",
          "state": {
            "_model_module": "@jupyter-widgets/base",
            "_model_module_version": "1.2.0",
            "_model_name": "LayoutModel",
            "_view_count": null,
            "_view_module": "@jupyter-widgets/base",
            "_view_module_version": "1.2.0",
            "_view_name": "LayoutView",
            "align_content": null,
            "align_items": null,
            "align_self": null,
            "border": null,
            "bottom": null,
            "display": null,
            "flex": null,
            "flex_flow": null,
            "grid_area": null,
            "grid_auto_columns": null,
            "grid_auto_flow": null,
            "grid_auto_rows": null,
            "grid_column": null,
            "grid_gap": null,
            "grid_row": null,
            "grid_template_areas": null,
            "grid_template_columns": null,
            "grid_template_rows": null,
            "height": null,
            "justify_content": null,
            "justify_items": null,
            "left": null,
            "margin": null,
            "max_height": null,
            "max_width": null,
            "min_height": null,
            "min_width": null,
            "object_fit": null,
            "object_position": null,
            "order": null,
            "overflow": null,
            "overflow_x": null,
            "overflow_y": null,
            "padding": null,
            "right": null,
            "top": null,
            "visibility": null,
            "width": null
          }
        },
        "9239c06767da4827afa2f6a53d48da87": {
          "model_module": "@jupyter-widgets/controls",
          "model_name": "DescriptionStyleModel",
          "model_module_version": "1.5.0",
          "state": {
            "_model_module": "@jupyter-widgets/controls",
            "_model_module_version": "1.5.0",
            "_model_name": "DescriptionStyleModel",
            "_view_count": null,
            "_view_module": "@jupyter-widgets/base",
            "_view_module_version": "1.2.0",
            "_view_name": "StyleView",
            "description_width": ""
          }
        },
        "a996bde828824cc6bbe05729629c967b": {
          "model_module": "@jupyter-widgets/controls",
          "model_name": "HBoxModel",
          "model_module_version": "1.5.0",
          "state": {
            "_dom_classes": [],
            "_model_module": "@jupyter-widgets/controls",
            "_model_module_version": "1.5.0",
            "_model_name": "HBoxModel",
            "_view_count": null,
            "_view_module": "@jupyter-widgets/controls",
            "_view_module_version": "1.5.0",
            "_view_name": "HBoxView",
            "box_style": "",
            "children": [
              "IPY_MODEL_f2c5360eee7a4348b8da4a059e57c3a7",
              "IPY_MODEL_5c419b7f235840ebbd34de57ae6828c6",
              "IPY_MODEL_6e2b3bb0289a4038b3e46ae83db11b94"
            ],
            "layout": "IPY_MODEL_afb7bc6869084b5a926c28f4bc8f6cd4"
          }
        },
        "f2c5360eee7a4348b8da4a059e57c3a7": {
          "model_module": "@jupyter-widgets/controls",
          "model_name": "HTMLModel",
          "model_module_version": "1.5.0",
          "state": {
            "_dom_classes": [],
            "_model_module": "@jupyter-widgets/controls",
            "_model_module_version": "1.5.0",
            "_model_name": "HTMLModel",
            "_view_count": null,
            "_view_module": "@jupyter-widgets/controls",
            "_view_module_version": "1.5.0",
            "_view_name": "HTMLView",
            "description": "",
            "description_tooltip": null,
            "layout": "IPY_MODEL_22bf4f1282ca43c4bc28c08155ebf660",
            "placeholder": "​",
            "style": "IPY_MODEL_ab0785ee2234455ea3c5ec7e42c56651",
            "value": ""
          }
        },
        "5c419b7f235840ebbd34de57ae6828c6": {
          "model_module": "@jupyter-widgets/controls",
          "model_name": "FloatProgressModel",
          "model_module_version": "1.5.0",
          "state": {
            "_dom_classes": [],
            "_model_module": "@jupyter-widgets/controls",
            "_model_module_version": "1.5.0",
            "_model_name": "FloatProgressModel",
            "_view_count": null,
            "_view_module": "@jupyter-widgets/controls",
            "_view_module_version": "1.5.0",
            "_view_name": "ProgressView",
            "bar_style": "success",
            "description": "",
            "description_tooltip": null,
            "layout": "IPY_MODEL_9e59a28a37074bee8c7204402006c681",
            "max": 63386336,
            "min": 0,
            "orientation": "horizontal",
            "style": "IPY_MODEL_628e72d3454e4a899f633f0e9708575e",
            "value": 63386336
          }
        },
        "6e2b3bb0289a4038b3e46ae83db11b94": {
          "model_module": "@jupyter-widgets/controls",
          "model_name": "HTMLModel",
          "model_module_version": "1.5.0",
          "state": {
            "_dom_classes": [],
            "_model_module": "@jupyter-widgets/controls",
            "_model_module_version": "1.5.0",
            "_model_name": "HTMLModel",
            "_view_count": null,
            "_view_module": "@jupyter-widgets/controls",
            "_view_module_version": "1.5.0",
            "_view_name": "HTMLView",
            "description": "",
            "description_tooltip": null,
            "layout": "IPY_MODEL_f460542a48ba42e0920a8529bbf7aaba",
            "placeholder": "​",
            "style": "IPY_MODEL_58c4042930cb4b21bd65e244e9115cb9",
            "value": " 63386624/? [00:00&lt;00:00, 124603418.13it/s]"
          }
        },
        "afb7bc6869084b5a926c28f4bc8f6cd4": {
          "model_module": "@jupyter-widgets/base",
          "model_name": "LayoutModel",
          "model_module_version": "1.2.0",
          "state": {
            "_model_module": "@jupyter-widgets/base",
            "_model_module_version": "1.2.0",
            "_model_name": "LayoutModel",
            "_view_count": null,
            "_view_module": "@jupyter-widgets/base",
            "_view_module_version": "1.2.0",
            "_view_name": "LayoutView",
            "align_content": null,
            "align_items": null,
            "align_self": null,
            "border": null,
            "bottom": null,
            "display": null,
            "flex": null,
            "flex_flow": null,
            "grid_area": null,
            "grid_auto_columns": null,
            "grid_auto_flow": null,
            "grid_auto_rows": null,
            "grid_column": null,
            "grid_gap": null,
            "grid_row": null,
            "grid_template_areas": null,
            "grid_template_columns": null,
            "grid_template_rows": null,
            "height": null,
            "justify_content": null,
            "justify_items": null,
            "left": null,
            "margin": null,
            "max_height": null,
            "max_width": null,
            "min_height": null,
            "min_width": null,
            "object_fit": null,
            "object_position": null,
            "order": null,
            "overflow": null,
            "overflow_x": null,
            "overflow_y": null,
            "padding": null,
            "right": null,
            "top": null,
            "visibility": null,
            "width": null
          }
        },
        "22bf4f1282ca43c4bc28c08155ebf660": {
          "model_module": "@jupyter-widgets/base",
          "model_name": "LayoutModel",
          "model_module_version": "1.2.0",
          "state": {
            "_model_module": "@jupyter-widgets/base",
            "_model_module_version": "1.2.0",
            "_model_name": "LayoutModel",
            "_view_count": null,
            "_view_module": "@jupyter-widgets/base",
            "_view_module_version": "1.2.0",
            "_view_name": "LayoutView",
            "align_content": null,
            "align_items": null,
            "align_self": null,
            "border": null,
            "bottom": null,
            "display": null,
            "flex": null,
            "flex_flow": null,
            "grid_area": null,
            "grid_auto_columns": null,
            "grid_auto_flow": null,
            "grid_auto_rows": null,
            "grid_column": null,
            "grid_gap": null,
            "grid_row": null,
            "grid_template_areas": null,
            "grid_template_columns": null,
            "grid_template_rows": null,
            "height": null,
            "justify_content": null,
            "justify_items": null,
            "left": null,
            "margin": null,
            "max_height": null,
            "max_width": null,
            "min_height": null,
            "min_width": null,
            "object_fit": null,
            "object_position": null,
            "order": null,
            "overflow": null,
            "overflow_x": null,
            "overflow_y": null,
            "padding": null,
            "right": null,
            "top": null,
            "visibility": null,
            "width": null
          }
        },
        "ab0785ee2234455ea3c5ec7e42c56651": {
          "model_module": "@jupyter-widgets/controls",
          "model_name": "DescriptionStyleModel",
          "model_module_version": "1.5.0",
          "state": {
            "_model_module": "@jupyter-widgets/controls",
            "_model_module_version": "1.5.0",
            "_model_name": "DescriptionStyleModel",
            "_view_count": null,
            "_view_module": "@jupyter-widgets/base",
            "_view_module_version": "1.2.0",
            "_view_name": "StyleView",
            "description_width": ""
          }
        },
        "9e59a28a37074bee8c7204402006c681": {
          "model_module": "@jupyter-widgets/base",
          "model_name": "LayoutModel",
          "model_module_version": "1.2.0",
          "state": {
            "_model_module": "@jupyter-widgets/base",
            "_model_module_version": "1.2.0",
            "_model_name": "LayoutModel",
            "_view_count": null,
            "_view_module": "@jupyter-widgets/base",
            "_view_module_version": "1.2.0",
            "_view_name": "LayoutView",
            "align_content": null,
            "align_items": null,
            "align_self": null,
            "border": null,
            "bottom": null,
            "display": null,
            "flex": null,
            "flex_flow": null,
            "grid_area": null,
            "grid_auto_columns": null,
            "grid_auto_flow": null,
            "grid_auto_rows": null,
            "grid_column": null,
            "grid_gap": null,
            "grid_row": null,
            "grid_template_areas": null,
            "grid_template_columns": null,
            "grid_template_rows": null,
            "height": null,
            "justify_content": null,
            "justify_items": null,
            "left": null,
            "margin": null,
            "max_height": null,
            "max_width": null,
            "min_height": null,
            "min_width": null,
            "object_fit": null,
            "object_position": null,
            "order": null,
            "overflow": null,
            "overflow_x": null,
            "overflow_y": null,
            "padding": null,
            "right": null,
            "top": null,
            "visibility": null,
            "width": null
          }
        },
        "628e72d3454e4a899f633f0e9708575e": {
          "model_module": "@jupyter-widgets/controls",
          "model_name": "ProgressStyleModel",
          "model_module_version": "1.5.0",
          "state": {
            "_model_module": "@jupyter-widgets/controls",
            "_model_module_version": "1.5.0",
            "_model_name": "ProgressStyleModel",
            "_view_count": null,
            "_view_module": "@jupyter-widgets/base",
            "_view_module_version": "1.2.0",
            "_view_name": "StyleView",
            "bar_color": null,
            "description_width": ""
          }
        },
        "f460542a48ba42e0920a8529bbf7aaba": {
          "model_module": "@jupyter-widgets/base",
          "model_name": "LayoutModel",
          "model_module_version": "1.2.0",
          "state": {
            "_model_module": "@jupyter-widgets/base",
            "_model_module_version": "1.2.0",
            "_model_name": "LayoutModel",
            "_view_count": null,
            "_view_module": "@jupyter-widgets/base",
            "_view_module_version": "1.2.0",
            "_view_name": "LayoutView",
            "align_content": null,
            "align_items": null,
            "align_self": null,
            "border": null,
            "bottom": null,
            "display": null,
            "flex": null,
            "flex_flow": null,
            "grid_area": null,
            "grid_auto_columns": null,
            "grid_auto_flow": null,
            "grid_auto_rows": null,
            "grid_column": null,
            "grid_gap": null,
            "grid_row": null,
            "grid_template_areas": null,
            "grid_template_columns": null,
            "grid_template_rows": null,
            "height": null,
            "justify_content": null,
            "justify_items": null,
            "left": null,
            "margin": null,
            "max_height": null,
            "max_width": null,
            "min_height": null,
            "min_width": null,
            "object_fit": null,
            "object_position": null,
            "order": null,
            "overflow": null,
            "overflow_x": null,
            "overflow_y": null,
            "padding": null,
            "right": null,
            "top": null,
            "visibility": null,
            "width": null
          }
        },
        "58c4042930cb4b21bd65e244e9115cb9": {
          "model_module": "@jupyter-widgets/controls",
          "model_name": "DescriptionStyleModel",
          "model_module_version": "1.5.0",
          "state": {
            "_model_module": "@jupyter-widgets/controls",
            "_model_module_version": "1.5.0",
            "_model_name": "DescriptionStyleModel",
            "_view_count": null,
            "_view_module": "@jupyter-widgets/base",
            "_view_module_version": "1.2.0",
            "_view_name": "StyleView",
            "description_width": ""
          }
        }
      }
    }
  },
  "nbformat": 4,
  "nbformat_minor": 0
}